{
 "cells": [
  {
   "cell_type": "code",
   "execution_count": 3,
   "metadata": {},
   "outputs": [],
   "source": [
    "from numpy import genfromtxt\n",
    "from time import time\n",
    "from datetime import datetime\n",
    "from sqlalchemy import Column, Integer, Text, Float, Date, String, VARCHAR\n",
    "from sqlalchemy.ext.declarative import declarative_base\n",
    "from sqlalchemy import create_engine\n",
    "from sqlalchemy.orm import sessionmaker\n",
    "import csv\n",
    "import pandas as pd\n",
    "\n",
    "\n",
    "#def Load_Data(file_name):\n",
    "    #data = csv.reader(file_name, delimiter=',')# skiprows=1, converters={0: lambda s: str(s)})\n",
    "    #return data.tolist()\n",
    "\n",
    "Base = declarative_base()\n",
    "\n",
    "class Oscars(Base):\n",
    "    #Tell SQLAlchemy what the table name is and if there's any table-specific arguments it should know about\n",
    "    __tablename__ = 'oscars'\n",
    "    __table_args__ = {'sqlite_autoincrement': True}\n",
    "    #tell SQLAlchemy the name of column and its attributes:\n",
    "    id = Column(Integer, primary_key=True)\n",
    "    film = Column(Text)\n",
    "    year = Column(Text)\n",
    "    ceremony = Column(Integer)\n",
    "    award = Column(Text)\n",
    "    winner = Column(Integer)\n",
    "    name = Column(Text)\n",
    "    budget = Column(Integer)\n",
    "    revenue = Column(Integer)\n",
    "    genre = Column(Text)\n",
    "    city = Column(Text)\n",
    "    lat = Column(Float)\n",
    "    lon = Column(Float)\n",
    "    imdb = Column(Integer)\n",
    "    metacritic = Column(Integer)\n",
    "    rottentomatoes = Column(Integer)\n",
    "\n",
    "engine = create_engine('sqlite:///oscar_winners_db.sqlite')\n",
    "Base.metadata.create_all(engine)\n",
    "file_name = 'full_oscars_database.csv'\n",
    "df = pd.read_csv(file_name)\n",
    "df.to_sql(con=engine, index_label='id', name=Oscars.__tablename__, if_exists='replace')"
   ]
  },
  {
   "cell_type": "code",
   "execution_count": 4,
   "metadata": {
    "collapsed": true
   },
   "outputs": [],
   "source": [
    "conn = engine.connect()"
   ]
  },
  {
   "cell_type": "code",
   "execution_count": 5,
   "metadata": {},
   "outputs": [
    {
     "data": {
      "text/plain": [
       "[(0, 'Darkest Hour', 2017, 90, 'Actor in a Leading Role', 1, 'Gary Oldman', 30000000, 64626786, 'Biography', 'London', 51.5074, 0.1278, 74, 75.0, 85),\n",
       " (1, 'Manchester by the Sea', 2016, 89, 'Actor in a Leading Role', 1, 'Casey Affleck', 9000000, 75026965, 'Drama', 'Falmouth', 50.1526, 5.0663, 78, 96.0, 95),\n",
       " (2, 'The Revenant', 2015, 88, 'Actor in a Leading Role', 1, 'Leonardo DiCaprio', 1000500, 55561162, 'Drama', 'Hollywood', 34.0928, 118.3287, 76, 80.0, 80),\n",
       " (3, 'The Theory of Everything', 2014, 87, 'Actor in a Leading Role', 1, 'Eddie Redmayne', 15000000, 123726688, 'Biography', 'London', 51.5074, 0.1278, 69, 77.0, 78),\n",
       " (4, 'Dallas Buyers Club', 2013, 86, 'Actor in a Leading Role', 1, 'Matthew McConaughey', 5000000, 55198285, 'Biography', 'Uvalde', 29.2097, 99.7862, 84, 80.0, 93)]"
      ]
     },
     "execution_count": 5,
     "metadata": {},
     "output_type": "execute_result"
    }
   ],
   "source": [
    "conn.execute(\"select * from oscars limit 5\").fetchall()"
   ]
  },
  {
   "cell_type": "code",
   "execution_count": null,
   "metadata": {
    "collapsed": true
   },
   "outputs": [],
   "source": []
  }
 ],
 "metadata": {
  "kernelspec": {
   "display_name": "Python 3",
   "language": "python",
   "name": "python3"
  },
  "language_info": {
   "codemirror_mode": {
    "name": "ipython",
    "version": 3
   },
   "file_extension": ".py",
   "mimetype": "text/x-python",
   "name": "python",
   "nbconvert_exporter": "python",
   "pygments_lexer": "ipython3",
   "version": "3.6.3"
  }
 },
 "nbformat": 4,
 "nbformat_minor": 2
}
